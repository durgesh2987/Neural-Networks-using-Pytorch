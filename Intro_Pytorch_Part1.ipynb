{
  "nbformat": 4,
  "nbformat_minor": 0,
  "metadata": {
    "colab": {
      "name": "Tensors_Torch.ipynb",
      "version": "0.3.2",
      "provenance": [],
      "collapsed_sections": [],
      "include_colab_link": true
    },
    "kernelspec": {
      "name": "python3",
      "display_name": "Python 3"
    }
  },
  "cells": [
    {
      "cell_type": "markdown",
      "metadata": {
        "id": "view-in-github",
        "colab_type": "text"
      },
      "source": [
        "<a href=\"https://colab.research.google.com/github/durgesh2987/Pytorch/blob/master/Intro_Pytorch_Part1.ipynb\" target=\"_parent\"><img src=\"https://colab.research.google.com/assets/colab-badge.svg\" alt=\"Open In Colab\"/></a>"
      ]
    },
    {
      "cell_type": "code",
      "metadata": {
        "id": "NZbSmFRPDUjI",
        "colab_type": "code",
        "colab": {}
      },
      "source": [
        "import torch\n"
      ],
      "execution_count": 0,
      "outputs": []
    },
    {
      "cell_type": "code",
      "metadata": {
        "id": "Uc9p6Q_tDW9t",
        "colab_type": "code",
        "colab": {}
      },
      "source": [
        "def activation(x):\n",
        "  \n",
        "  return 1/(1+torch.exp(-x))\n"
      ],
      "execution_count": 0,
      "outputs": []
    },
    {
      "cell_type": "code",
      "metadata": {
        "id": "IXKLdHScDhm-",
        "colab_type": "code",
        "outputId": "5aa7e8c0-6b57-4cb6-9fcd-f1badf53cfe6",
        "colab": {
          "base_uri": "https://localhost:8080/",
          "height": 68
        }
      },
      "source": [
        "torch.manual_seed(7)\n",
        "\n",
        "\n",
        "\n",
        "\n",
        "features = torch.randn((1, 5))\n",
        "\n",
        "print(features)\n",
        "\n",
        "weights=torch.randn_like(features)\n",
        "\n",
        "print(weights)\n",
        "bias = torch.randn((1, 1))\n",
        "\n",
        "print(bias)"
      ],
      "execution_count": 59,
      "outputs": [
        {
          "output_type": "stream",
          "text": [
            "tensor([[-0.1468,  0.7861,  0.9468, -1.1143,  1.6908]])\n",
            "tensor([[-0.8948, -0.3556,  1.2324,  0.1382, -1.6822]])\n",
            "tensor([[0.3177]])\n"
          ],
          "name": "stdout"
        }
      ]
    },
    {
      "cell_type": "code",
      "metadata": {
        "id": "poHRQikiKIUP",
        "colab_type": "code",
        "outputId": "e95f4101-60ad-48ed-bac4-89e7723d2265",
        "colab": {
          "base_uri": "https://localhost:8080/",
          "height": 34
        }
      },
      "source": [
        "#torch.mm(features,weights)\n",
        "\n",
        "\n",
        "\n",
        "weights.view(5, 1)\n",
        "\n",
        "weights.shape\n",
        "                \n",
        "\n",
        "\n",
        "y = activation(torch.mm(features, weights.view(5,1)) + bias)\n",
        "\n",
        "print(y)"
      ],
      "execution_count": 60,
      "outputs": [
        {
          "output_type": "stream",
          "text": [
            "tensor([[0.1595]])\n"
          ],
          "name": "stdout"
        }
      ]
    },
    {
      "cell_type": "code",
      "metadata": {
        "id": "VDBeKnlHicxt",
        "colab_type": "code",
        "outputId": "0c2b7afb-30e7-49eb-a59c-1bf63f0935e4",
        "colab": {
          "base_uri": "https://localhost:8080/",
          "height": 102
        }
      },
      "source": [
        "torch.manual_seed(7)\n",
        "\n",
        "feactures=torch.randn((1,3))\n",
        "\n",
        "print(feactures)\n",
        "\n",
        "print(feactures.shape)\n",
        "\n",
        "n_input=feactures.shape[1]\n",
        "\n",
        "print(n_input)\n",
        "\n",
        "n_hidden=2\n",
        "n_output=1\n",
        "\n",
        "w1=torch.randn(n_input,n_hidden)\n",
        "\n",
        "\n",
        "print(w1.shape)\n",
        "\n",
        "w2=torch.randn(n_hidden,n_output)\n",
        "\n",
        "b1=torch.randn(1,n_hidden)\n",
        "b2=torch.randn(1,n_output)\n",
        "\n",
        "y1=activation(torch.mm(feactures,w1+b1))\n",
        "\n",
        "print(y1)\n"
      ],
      "execution_count": 61,
      "outputs": [
        {
          "output_type": "stream",
          "text": [
            "tensor([[-0.1468,  0.7861,  0.9468]])\n",
            "torch.Size([1, 3])\n",
            "3\n",
            "torch.Size([3, 2])\n",
            "tensor([[0.6980, 0.4553]])\n"
          ],
          "name": "stdout"
        }
      ]
    },
    {
      "cell_type": "code",
      "metadata": {
        "id": "0hDtVECvqFou",
        "colab_type": "code",
        "outputId": "147d201e-d9db-42a3-928b-c09e3de7a98a",
        "colab": {
          "base_uri": "https://localhost:8080/",
          "height": 51
        }
      },
      "source": [
        "y1 = activation(torch.mm(feactures, w1) + b1)\n",
        "\n",
        "print(y1)\n",
        "\n",
        "y=activation(torch.mm(y1,w2)+b2)\n",
        "\n",
        "print(y)\n",
        "\n"
      ],
      "execution_count": 62,
      "outputs": [
        {
          "output_type": "stream",
          "text": [
            "tensor([[0.6813, 0.4355]])\n",
            "tensor([[0.3171]])\n"
          ],
          "name": "stdout"
        }
      ]
    },
    {
      "cell_type": "code",
      "metadata": {
        "id": "LJ8hz8GmDnvI",
        "colab_type": "code",
        "colab": {
          "base_uri": "https://localhost:8080/",
          "height": 272
        },
        "outputId": "91733b7b-d31a-4e6a-ec07-e27544d0f4ec"
      },
      "source": [
        "torch.manual_seed(7)\n",
        "\n",
        "feactures=torch.randn(5,10)\n",
        "\n",
        "weight=torch.randn(10,1)\n",
        "\n",
        "print(weight)\n",
        "\n",
        "bias=torch.randn(1,1)\n",
        "\n",
        "y=activation(torch.mm(feactures,weight)+bias)\n",
        "print(y)\n",
        "\n",
        "\n"
      ],
      "execution_count": 63,
      "outputs": [
        {
          "output_type": "stream",
          "text": [
            "tensor([[-0.1857],\n",
            "        [-0.8985],\n",
            "        [ 0.6095],\n",
            "        [ 0.2240],\n",
            "        [ 1.5147],\n",
            "        [ 0.6119],\n",
            "        [-0.6075],\n",
            "        [ 0.8534],\n",
            "        [ 0.7554],\n",
            "        [-0.5511]])\n",
            "tensor([[0.4685],\n",
            "        [0.9806],\n",
            "        [0.0731],\n",
            "        [0.6456],\n",
            "        [0.9333]])\n"
          ],
          "name": "stdout"
        }
      ]
    }
  ]
}